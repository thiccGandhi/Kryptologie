{
 "cells": [
  {
   "cell_type": "code",
   "id": "initial_id",
   "metadata": {
    "collapsed": true,
    "ExecuteTime": {
     "end_time": "2024-06-17T14:37:32.938283Z",
     "start_time": "2024-06-17T14:37:32.910141Z"
    }
   },
   "source": [
    "import random\n",
    "\n",
    "from IPython.display import IFrame\n",
    "IFrame(\"Blatt04.pdf\", width=1000, height=500)"
   ],
   "outputs": [
    {
     "data": {
      "text/plain": [
       "<IPython.lib.display.IFrame at 0x20cb96bff10>"
      ],
      "text/html": [
       "\n",
       "        <iframe\n",
       "            width=\"1000\"\n",
       "            height=\"500\"\n",
       "            src=\"Blatt04.pdf\"\n",
       "            frameborder=\"0\"\n",
       "            allowfullscreen\n",
       "            \n",
       "        ></iframe>\n",
       "        "
      ]
     },
     "execution_count": 14,
     "metadata": {},
     "output_type": "execute_result"
    }
   ],
   "execution_count": 14
  },
  {
   "metadata": {
    "ExecuteTime": {
     "end_time": "2024-06-17T14:37:33.136894Z",
     "start_time": "2024-06-17T14:37:33.119497Z"
    }
   },
   "cell_type": "code",
   "source": [
    "def discrete_log(base, modulo):\n",
    "    return [(x, (base ** x) % modulo) for x in range (modulo)]\n",
    "    \n",
    "\n",
    "print(discrete_log(2, 13))"
   ],
   "id": "da317089ee87278a",
   "outputs": [
    {
     "name": "stdout",
     "output_type": "stream",
     "text": [
      "[(0, 1), (1, 2), (2, 4), (3, 8), (4, 3), (5, 6), (6, 12), (7, 11), (8, 9), (9, 5), (10, 10), (11, 7), (12, 1)]\n"
     ]
    }
   ],
   "execution_count": 15
  },
  {
   "metadata": {},
   "cell_type": "markdown",
   "source": [
    "# 4.2\n",
    "\n",
    "m' with Alice key\n",
    "m'' with Alice and Bob keys\n",
    "m''' with Bob key\n",
    "\n",
    "m' XOR m'' XOR m''' = m"
   ],
   "id": "da0dbd371f5a40bb"
  },
  {
   "metadata": {
    "ExecuteTime": {
     "end_time": "2024-06-17T14:37:33.182316Z",
     "start_time": "2024-06-17T14:37:33.168158Z"
    }
   },
   "cell_type": "code",
   "source": [
    "def shamir_xor(m=10):\n",
    "    alice_key = random.randint(1,10)\n",
    "    bob_key = random.randint(1,10)\n",
    "    m1 = m ^ alice_key\n",
    "    m2 = m1 ^ bob_key\n",
    "    m3 = m2 ^ alice_key\n",
    "    m4 = m3 ^ bob_key\n",
    "    m5 = m1 ^ m2 ^ m3\n",
    "    return m, alice_key, bob_key, m1, m2, m3, m4, m5\n",
    "\n",
    "\n",
    "print(shamir_xor())"
   ],
   "id": "6b7435ed8b735cb5",
   "outputs": [
    {
     "name": "stdout",
     "output_type": "stream",
     "text": [
      "(10, 1, 4, 11, 15, 14, 10, 10)\n"
     ]
    }
   ],
   "execution_count": 16
  },
  {
   "metadata": {
    "ExecuteTime": {
     "end_time": "2024-06-17T14:37:33.289739Z",
     "start_time": "2024-06-17T14:37:33.267633Z"
    }
   },
   "cell_type": "code",
   "source": [
    "def mod_exp(a, x, n):\n",
    "    d = 1\n",
    "    for i in bin(x)[2:]:\n",
    "        d = (d * d) % n\n",
    "        if int(i) == 1: d = (d * a) % n\n",
    "    return d\n",
    "\n",
    "\n",
    "def diffie_hellman(n, a, x, y):\n",
    "    x1 = mod_exp(a, x, n)\n",
    "    print(f\"Alice calculates x1 = ({a}^{x} mod {n}) = {x1} and sends it to Bob.\")\n",
    "    y1 = mod_exp(a, y, n)\n",
    "    print(f\"Bob calculates y1 = ({a}^{y} mod {n}) = {y1} and sends it to Alice.\")\n",
    "    za = mod_exp(y1, x, n)\n",
    "    print(f\"Alice calculates the key z = ({y1}^{x} mod {n}) = {za}\")\n",
    "    zb = mod_exp(x1, y, n)\n",
    "    print(f\"Bob calculates the key z = ({x1}^{y} mod {n}) = {zb}\")\n",
    "    \n",
    "    return za, zb\n",
    "\n",
    "\n",
    "diffie_hellman(17, 4, 3, 6)"
   ],
   "id": "318f3887eb8c01a3",
   "outputs": [
    {
     "name": "stdout",
     "output_type": "stream",
     "text": [
      "Alice calculates x1 = (4^3 mod 17) = 13 and sends it to Bob.\n",
      "Bob calculates y1 = (4^6 mod 17) = 16 and sends it to Alice.\n",
      "Alice calculates the key z = (16^3 mod 17) = 16\n",
      "Bob calculates the key z = (13^6 mod 17) = 16\n"
     ]
    },
    {
     "data": {
      "text/plain": [
       "(16, 16)"
      ]
     },
     "execution_count": 17,
     "metadata": {},
     "output_type": "execute_result"
    }
   ],
   "execution_count": 17
  },
  {
   "metadata": {
    "ExecuteTime": {
     "end_time": "2024-06-17T14:50:47.361635Z",
     "start_time": "2024-06-17T14:50:47.334050Z"
    }
   },
   "cell_type": "code",
   "source": [
    "def extggT(a,b):\n",
    "    if b == 0: return a,1,0\n",
    "    d,x,y = extggT(b, a % b)\n",
    "    return d,y,x-(a//b)*y\n",
    "\n",
    "\n",
    "def el_gamal(n, a, y, m):\n",
    "    y1 = mod_exp(a, y, n)\n",
    "    correct = []\n",
    "    for i in range(n):\n",
    "        x = mod_exp(a, i, n)\n",
    "        za = mod_exp(y1, i, n)\n",
    "        c = (m * za) % n\n",
    "        zb = mod_exp(x, y, n)\n",
    "        zb_inv = extggT(zb, n)[1] % n\n",
    "        mb = (c * zb_inv) % n\n",
    "        correct.append((x, c))\n",
    "    return correct\n",
    "        \n",
    "\n",
    "el_gamal(11, 6, 2, 7)"
   ],
   "id": "2d34612d38d20b5",
   "outputs": [
    {
     "data": {
      "text/plain": [
       "[(1, 7),\n",
       " (6, 10),\n",
       " (3, 8),\n",
       " (7, 2),\n",
       " (9, 6),\n",
       " (10, 7),\n",
       " (5, 10),\n",
       " (8, 8),\n",
       " (4, 2),\n",
       " (2, 6),\n",
       " (1, 7)]"
      ]
     },
     "execution_count": 30,
     "metadata": {},
     "output_type": "execute_result"
    }
   ],
   "execution_count": 30
  },
  {
   "metadata": {
    "ExecuteTime": {
     "end_time": "2024-06-17T14:50:58.422210Z",
     "start_time": "2024-06-17T14:50:58.406075Z"
    }
   },
   "cell_type": "code",
   "source": [
    "def is_square_rest(a, n):\n",
    "    if mod_exp(a, (n - 1) // 2, n) == 1: return True\n",
    "    return False\n",
    "\n",
    "\n",
    "def mod_square_root(a, n):\n",
    "    if n % 4 != 3:\n",
    "        raise Exception(f\"{n} is not a blum-prime\")\n",
    "    b = mod_exp(a, (n + 1) // 4, n)\n",
    "    return b, n-b\n",
    "\n",
    "\n",
    "print(is_square_rest(8, 103))\n",
    "print(mod_square_root(8, 103))"
   ],
   "id": "4772e3a9c7fd241e",
   "outputs": [
    {
     "name": "stdout",
     "output_type": "stream",
     "text": [
      "True\n",
      "(76, 27)\n"
     ]
    }
   ],
   "execution_count": 31
  },
  {
   "metadata": {
    "ExecuteTime": {
     "end_time": "2024-06-17T15:02:46.889910Z",
     "start_time": "2024-06-17T15:02:46.865102Z"
    }
   },
   "cell_type": "code",
   "source": [
    "import math\n",
    "\n",
    "\n",
    "def chinese_remainder(a, n):\n",
    "    length = len(n)\n",
    "    n_prod = math.prod(n)\n",
    "    m = [n_prod // i for i in n]\n",
    "    y = [extggT(m[i], n[i])[1] % n[i] for i in range(length)]\n",
    "    x = sum([(a[i] * y[i] * m[i]) % n_prod for i in range(length)])\n",
    "    print(m, y)\n",
    "    return x\n",
    "\n",
    "\n",
    "def rabin(p, q, m):\n",
    "    n = p * q\n",
    "    c = (m ** 2) % n\n",
    "    mp1, mp2 = mod_square_root(c, p)\n",
    "    mq1, mq2 = mod_square_root(c, q)\n",
    "    print(mp1, mp2, mq1, mq2)\n",
    "    x1 = chinese_remainder([mp1, mq1], [p, q]) % n\n",
    "    x2 = chinese_remainder([mp1, mq2], [p, q]) % n\n",
    "    x3 = chinese_remainder([mp2, mq1], [p, q]) % n\n",
    "    x4 = chinese_remainder([mp2, mq2], [p, q]) % n\n",
    "    return x1, x2, x3, x4\n",
    "\n",
    "\n",
    "print(rabin(31, 23, 111))"
   ],
   "id": "f0bdda98f5ce5c79",
   "outputs": [
    {
     "name": "stdout",
     "output_type": "stream",
     "text": [
      "18 13 4 19\n",
      "[23, 31] [27, 3]\n",
      "[23, 31] [27, 3]\n",
      "[23, 31] [27, 3]\n",
      "[23, 31] [27, 3]\n",
      "(142, 111, 602, 571)\n"
     ]
    }
   ],
   "execution_count": 39
  },
  {
   "metadata": {
    "ExecuteTime": {
     "end_time": "2024-06-17T14:37:33.762333Z",
     "start_time": "2024-06-17T14:37:33.747601Z"
    }
   },
   "cell_type": "code",
   "source": [
    "n = 31*23\n",
    "a = 200\n",
    "for x in range(n):\n",
    "    if (x**2) % n == a: print(x, n-x)"
   ],
   "id": "6fbf2b3c2c674f7a",
   "outputs": [
    {
     "name": "stdout",
     "output_type": "stream",
     "text": [
      "111 602\n",
      "142 571\n",
      "571 142\n",
      "602 111\n"
     ]
    }
   ],
   "execution_count": 21
  },
  {
   "metadata": {
    "ExecuteTime": {
     "end_time": "2024-06-17T14:37:33.862141Z",
     "start_time": "2024-06-17T14:37:33.850764Z"
    }
   },
   "cell_type": "code",
   "source": "",
   "id": "d52cc38767f4f56f",
   "outputs": [],
   "execution_count": 21
  }
 ],
 "metadata": {
  "kernelspec": {
   "display_name": "Python 3",
   "language": "python",
   "name": "python3"
  },
  "language_info": {
   "codemirror_mode": {
    "name": "ipython",
    "version": 2
   },
   "file_extension": ".py",
   "mimetype": "text/x-python",
   "name": "python",
   "nbconvert_exporter": "python",
   "pygments_lexer": "ipython2",
   "version": "2.7.6"
  }
 },
 "nbformat": 4,
 "nbformat_minor": 5
}
