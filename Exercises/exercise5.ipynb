{
 "cells": [
  {
   "cell_type": "code",
   "id": "initial_id",
   "metadata": {
    "collapsed": true,
    "ExecuteTime": {
     "end_time": "2024-06-26T12:11:38.842336Z",
     "start_time": "2024-06-26T12:11:38.798262Z"
    }
   },
   "source": [
    "import random\n",
    "\n",
    "from IPython.display import IFrame\n",
    "IFrame(\"Blatt05.pdf\", width=1000, height=500)"
   ],
   "outputs": [
    {
     "data": {
      "text/plain": [
       "<IPython.lib.display.IFrame at 0x1ac074ddf50>"
      ],
      "text/html": [
       "\n",
       "        <iframe\n",
       "            width=\"1000\"\n",
       "            height=\"500\"\n",
       "            src=\"Blatt05.pdf\"\n",
       "            frameborder=\"0\"\n",
       "            allowfullscreen\n",
       "            \n",
       "        ></iframe>\n",
       "        "
      ]
     },
     "execution_count": 1,
     "metadata": {},
     "output_type": "execute_result"
    }
   ],
   "execution_count": 1
  },
  {
   "metadata": {
    "ExecuteTime": {
     "end_time": "2024-06-26T12:11:38.883343Z",
     "start_time": "2024-06-26T12:11:38.842336Z"
    }
   },
   "cell_type": "code",
   "source": [
    "def gen_prime_factors(n):\n",
    "    i = 2\n",
    "    factors = []\n",
    "    while i * i <= n:\n",
    "        if n % i:\n",
    "            i += 1\n",
    "        else:\n",
    "            n //= i\n",
    "            factors.append(i)\n",
    "    if n > 1:\n",
    "        factors.append(n)\n",
    "    return list(set([(x, factors.count(x)) for x in factors]))\n",
    "\n",
    "\n",
    "def ggT(a,b):\n",
    "    if b == 0: return a\n",
    "    return ggT(b, a % b)\n",
    "\n",
    "\n",
    "def fermat_test_carmichael_prob(n):\n",
    "    divider = list(range(2,n))\n",
    "    prime_factors = [x[0] for x in gen_prime_factors(n)]\n",
    "    for i in range(n):\n",
    "        for x in prime_factors:\n",
    "            if ggT(i,x) > 1:\n",
    "                try:\n",
    "                    divider.remove(i)\n",
    "                except ValueError:\n",
    "                    pass\n",
    "                    #print(\"Value \" + str(i) + \" already removed.\")\n",
    "    return len(divider) / n\n",
    "\n",
    "\n",
    "print(fermat_test_carmichael_prob(561))\n",
    "print(fermat_test_carmichael_prob(1105))"
   ],
   "id": "242c3d699bc4ba34",
   "outputs": [
    {
     "name": "stdout",
     "output_type": "stream",
     "text": [
      "0.5686274509803921\n",
      "0.6941176470588235\n"
     ]
    }
   ],
   "execution_count": 2
  },
  {
   "metadata": {},
   "cell_type": "markdown",
   "source": [
    "561 = 3\\*11\\*17\\\n",
    "1105 = 5\\*13\\*19\\\n",
    "forall a el zn^*: a^n-1 = 1 mod n\\\n",
    "ggt(a,n)=1\\\n",
    "phi(n)-1/#{2,...,n-1} = phi(n)-1/n-2\\\n",
    "phi(561)=2\\*10\\*16=320 => 320-1/561-2=0.57\\\n",
    "phi(1105)=4\\*12\\*18=864 => 864-1/1105-2 = 0.78"
   ],
   "id": "fbcf8400107ed815"
  },
  {
   "metadata": {},
   "cell_type": "markdown",
   "source": [
    "# 5.2\n",
    "\n",
    "Euler-Kriterium: a el Zn^\\* quadr. Rest gdw. a^(n-1)/2 = 1 mod n\\\n",
    "Primitivwurzelkriterium: a el Zn^\\* PW gdw. a^(phi(n)/q) != 1 mod n forall q Primzahl: q | phi(n)\n",
    "\n",
    "a) $a^{(n-1)/2}\\ ≡\\ -1\\ mod\\ n$\\\n",
    "b) $a^{(n-1)/2}\\ ≡\\ +1\\ mod\\ n$\n",
    "\n",
    "Es folgt aus dem Euler-Kriterium, dass b) ein quadratischer Rest ist und daher keine Primitivwurzel sein kann (da 2 teiler von phi(n) ist PWK nicht erfüllt) und a) ein quadratischer Nicht-Rest, da ungleich 1 (EK) und ist PW (solange für andere Primteiler q von a^phi(n)/q auch != 1 ist)\n"
   ],
   "id": "d07d6e3e673c3924"
  },
  {
   "metadata": {},
   "cell_type": "markdown",
   "source": [
    "# 5.3\n",
    "\n",
    "Diffie-Hellman -> ElGamal:\\\n",
    "Gegeben: $n$, $a$, $x'=a^x\\ mod\\ n$, $y'=a^{y}\\ mod\\ n$, $m'=a^{xy} m\\ mod\\ n$\\\n",
    "Ziel: Bestimme m\\\n",
    "1: Frage Orakel nach $z=a^{xy}\\ mod\\ n$ und berechne inverses mod n\\\n",
    "2: Berechne $m' z^{-1} = m a^{xy} (a^{xy})^{-1} = m\\ mod\\ n$\n",
    "\n",
    "ElGamal -> Diffie-Hellman:\\\n",
    "Gegeben: $n$, $a$, $x'=a^x\\ mod\\ n$, $y'=a^{y}\\ mod\\ n$\\\n",
    "Ziel: Bestimme $z=a^{xy}\\ mod\\ n$\\\n",
    "1: Wähle verschlüsselte Nachricht $m'$ mit $m'=a^{xy} m\\ mod\\ n$\\\n",
    "2: ElGamal gibt uns $m$\\\n",
    "3: Berechne inverses zu $m$ und berechne $m' * m^{-1} = a^{xy} * m * m^{-1} = a^{xy}\\ mod\\ n$"
   ],
   "id": "5315deb894cdac26"
  },
  {
   "metadata": {},
   "cell_type": "markdown",
   "source": [
    "# 5.4\n",
    "\n",
    "#### a)\n",
    "$h∈P$, da $h(x)=g(f(x))$ die Komposition von zwei polynomialzeit-berechenbaren Funktionen $f,g$ ist\\\n",
    "$h^{-1}∉P$, da sonst $x$ so gefunden werden kann, dass $g(f(x))=y$. Da $f$ eine Einwegfunktion ist, ist $f^{-1}∉P$, mit $g$ ebenso, also ist $h^{-1}∉P$\n",
    "\n",
    "#### b)\n",
    "\\\n",
    "$f$ ist Einwegfunktion mit Falltür gdw. $f$ ist Einwegfkt. & Ex. eff. Alg. M & forall n Ex. Schlüssel k_n: M(y,k_n)=$f^{-1}(y)$\\\n",
    "Sei M_f eff. Alg. für $f$ & k_n Schlüssel: M_f(y,k_n)=$f^{-1}(y)$\\\n",
    "Sei M_g eff. Alg. für $g$ & k_n' Schlüssel: M_g(y,k_n')=$g^{-1}(y)$\\\n",
    "$h^{-1}(y)=(f^{-1}°g^{-1})(y)=f^{-1}(g^{-1}(y))=F^{-1}(M_g(y,k_n'))=M_f(M_g(y,k_n'),k_n)$"
   ],
   "id": "aa90b7e54654bc1b"
  },
  {
   "metadata": {},
   "cell_type": "markdown",
   "source": [
    "# 5.5\n",
    "\n",
    "Für $n$ gibt es $x,y: x^2≡y^2\\ mod\\ n$ und $x≢∓y\\ mod\\ n$\\\n",
    "ZZ: $n$ ist keine Primzahl und ggT($x-y$,$n$) ist nicht-trivialer Faktor von n\\\n",
    "$n$ ist Teiler von $x^2-y^2\\ =\\ (x-y)(y+x)$\\\n",
    "Da $x≢∓y\\ mod\\ n$ folgt $x-y≢0\\ mod\\ n$ und $x+y≢0\\ mod\\ n$, d.h. weder $x-y$ noch $x+y$ ist durch n teilbar\\\n",
    "Da $n\\ |\\ x^2-y^2\\ =\\ (x-y)(y+x)$ und $x-y$ und $x+y$ $n$ nicht teilen ist n keine Primzahl und muss zusammengesetzt sein, da es mindestens einen weiteren Teiler außer 1 und $n$ gibt\\\n",
    "daraus folgt auch, dass der ggT($x-y$,$n$) ist nicht-trivialer Faktor von n ist\n",
    "\n",
    "# Übung:\n",
    "\n",
    "Ang. d=ggT(x-y,n)=n => x-y = 0 mod n => x = y mod n Error\\\n",
    "Ang. d=1, [a|b\\*c & ggT(a,b) => a|c]\\\n",
    "x^2-y^2=0 mod n => n|x^2-y^2\\\n",
    "x^2-y^2 = (x+y)(x-y) => n|x+y => x+y=0 mod n => x=-y mod n Error\\\n",
    "=> d ist nicht trivialer Faktor von n => n keine Primzahl"
   ],
   "id": "edf30487158556f"
  },
  {
   "metadata": {
    "ExecuteTime": {
     "end_time": "2024-06-26T12:11:38.893569Z",
     "start_time": "2024-06-26T12:11:38.886054Z"
    }
   },
   "cell_type": "code",
   "source": "",
   "id": "f7ddb15a5d3b3b6e",
   "outputs": [],
   "execution_count": 2
  }
 ],
 "metadata": {
  "kernelspec": {
   "display_name": "Python 3",
   "language": "python",
   "name": "python3"
  },
  "language_info": {
   "codemirror_mode": {
    "name": "ipython",
    "version": 2
   },
   "file_extension": ".py",
   "mimetype": "text/x-python",
   "name": "python",
   "nbconvert_exporter": "python",
   "pygments_lexer": "ipython2",
   "version": "2.7.6"
  }
 },
 "nbformat": 4,
 "nbformat_minor": 5
}
