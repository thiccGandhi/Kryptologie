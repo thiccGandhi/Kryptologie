{
 "cells": [
  {
   "cell_type": "code",
   "id": "initial_id",
   "metadata": {
    "collapsed": true,
    "ExecuteTime": {
     "end_time": "2024-07-10T12:14:39.797641Z",
     "start_time": "2024-07-10T12:14:39.740537Z"
    }
   },
   "source": [
    "import random\n",
    "import math\n",
    "\n",
    "from IPython.display import IFrame\n",
    "IFrame(\"Blatt06.pdf\", width=1000, height=500)"
   ],
   "outputs": [
    {
     "data": {
      "text/plain": [
       "<IPython.lib.display.IFrame at 0x1e8aa751a90>"
      ],
      "text/html": [
       "\n",
       "        <iframe\n",
       "            width=\"1000\"\n",
       "            height=\"500\"\n",
       "            src=\"Blatt06.pdf\"\n",
       "            frameborder=\"0\"\n",
       "            allowfullscreen\n",
       "            \n",
       "        ></iframe>\n",
       "        "
      ]
     },
     "execution_count": 1,
     "metadata": {},
     "output_type": "execute_result"
    }
   ],
   "execution_count": 1
  },
  {
   "metadata": {
    "ExecuteTime": {
     "end_time": "2024-07-10T12:14:39.834734Z",
     "start_time": "2024-07-10T12:14:39.807368Z"
    }
   },
   "cell_type": "code",
   "source": [
    "def is_square(i: int) -> bool:\n",
    "    return i == math.isqrt(i) ** 2\n",
    "\n",
    "\n",
    "def fermat_factorization(n):\n",
    "    print(f\"Fermat factorization of {n}\")\n",
    "    x = math.ceil(math.sqrt(n)) - 1\n",
    "    print(f\"{x ** 2} = {x}^2\")\n",
    "    d = 2\n",
    "    i = 0\n",
    "    while not is_square(d):\n",
    "        x += 1\n",
    "        d = x ** 2 - n\n",
    "        print(f\"d{i} = {x}^2 - {n} = {d}\")\n",
    "        i += 1\n",
    "    d = int(math.sqrt(d) + 0.5)\n",
    "    print(f\"{d ** 2} = {d}^2\")\n",
    "    return x+d, x-d\n",
    "\n",
    "\n",
    "print(fermat_factorization(6161))\n",
    "print(fermat_factorization(2923))"
   ],
   "id": "691f871d61ca3c3a",
   "outputs": [
    {
     "name": "stdout",
     "output_type": "stream",
     "text": [
      "Fermat factorization of 6161\n",
      "6084 = 78^2\n",
      "d0 = 79^2 - 6161 = 80\n",
      "d1 = 80^2 - 6161 = 239\n",
      "d2 = 81^2 - 6161 = 400\n",
      "400 = 20^2\n",
      "(101, 61)\n",
      "Fermat factorization of 2923\n",
      "2916 = 54^2\n",
      "d0 = 55^2 - 2923 = 102\n",
      "d1 = 56^2 - 2923 = 213\n",
      "d2 = 57^2 - 2923 = 326\n",
      "d3 = 58^2 - 2923 = 441\n",
      "441 = 21^2\n",
      "(79, 37)\n"
     ]
    }
   ],
   "execution_count": 2
  },
  {
   "metadata": {},
   "cell_type": "markdown",
   "source": [
    "# 6.1 b)\n",
    "\n",
    "x muss die Werte von $\\sqrt{pq}$ bis $\\frac{p+q}{2}$ durchlaufen.\\\n",
    "Bei 499- bzw. 501-Bit Zahlen $p, q$ liegt die Differenz circa bei $\\frac{(0.5*2^{500}\\ +\\ 2*2^{500})}{2}\\ -\\ 2^{500}\\ =\\ \\frac{1}{4}* 2^{500}\\ =\\ 2^{498}$"
   ],
   "id": "a1b944f14392ecce"
  },
  {
   "metadata": {
    "ExecuteTime": {
     "end_time": "2024-07-10T12:34:05.142118Z",
     "start_time": "2024-07-10T12:34:05.108411Z"
    }
   },
   "cell_type": "code",
   "source": [
    "def mod_exp(a, x, n):\n",
    "    d = 1\n",
    "    for i in bin(x)[2:]:\n",
    "        d = (d * d) % n\n",
    "        if int(i) == 1: d = (d * a) % n\n",
    "    return d\n",
    "\n",
    "\n",
    "def ggT(a,b):\n",
    "    if b == 0: return a\n",
    "    return ggT(b, a % b)\n",
    "\n",
    "\n",
    "def p_1_pollard(n, a=2):\n",
    "    B = 1\n",
    "    g = 1\n",
    "    while g == 1:\n",
    "        B += 1\n",
    "        a = mod_exp(a,B,n)\n",
    "        g = ggT(a-1, n)\n",
    "        print(f\"B: {B}, a: {a}, g: {g}\")\n",
    "    if g == n:\n",
    "        return \"failure\"\n",
    "    return g\n",
    "\n",
    "\n",
    "def gen_prime_factors(n):\n",
    "    i = 2\n",
    "    factors = []\n",
    "    while i * i <= n:\n",
    "        if n % i:\n",
    "            i += 1\n",
    "        else:\n",
    "            n //= i\n",
    "            factors.append(i)\n",
    "    if n > 1:\n",
    "        factors.append(n)\n",
    "    return list(set([(x, factors.count(x)) for x in factors]))\n",
    "\n",
    "\n",
    "print(gen_prime_factors(103-1))\n",
    "print(gen_prime_factors(241-1))\n",
    "\n",
    "p_1_pollard(103*241)"
   ],
   "id": "3ad9540dc9d0c913",
   "outputs": [
    {
     "name": "stdout",
     "output_type": "stream",
     "text": [
      "[(3, 1), (17, 1), (2, 1)]\n",
      "[(3, 1), (2, 4), (5, 1)]\n",
      "B: 2, a: 4, g: 1\n",
      "B: 3, a: 64, g: 1\n",
      "B: 4, a: 21691, g: 241\n"
     ]
    },
    {
     "data": {
      "text/plain": [
       "241"
      ]
     },
     "execution_count": 7,
     "metadata": {},
     "output_type": "execute_result"
    }
   ],
   "execution_count": 7
  },
  {
   "metadata": {
    "ExecuteTime": {
     "end_time": "2024-07-10T12:46:44.045123Z",
     "start_time": "2024-07-10T12:46:44.017523Z"
    }
   },
   "cell_type": "code",
   "source": [
    "def pollard_rho(n, z0=20):\n",
    "    i = 0\n",
    "    x = z0\n",
    "    y = z0\n",
    "    g = 1\n",
    "    while g == 1:\n",
    "        x = (x ** 2 + 1) % n\n",
    "        y = (y ** 2 + 1) % n\n",
    "        print(y)\n",
    "        y = (y ** 2 + 1) % n\n",
    "        g = ggT(x - y, n)\n",
    "        i += 1\n",
    "        print(f\"i: {i}, z{i}: {x}, z{2*i}: {y}, g: {g}\")\n",
    "    if g == n: return \"failure\"\n",
    "    return g\n",
    "\n",
    "print(pollard_rho(1219))"
   ],
   "id": "351b14f96f9b7181",
   "outputs": [
    {
     "name": "stdout",
     "output_type": "stream",
     "text": [
      "401\n",
      "i: 1, z1: 401, z2: 1113, g: 1\n",
      "266\n",
      "i: 2, z2: 1113, z4: 55, g: 23\n",
      "23\n"
     ]
    }
   ],
   "execution_count": 14
  },
  {
   "metadata": {
    "ExecuteTime": {
     "end_time": "2024-07-10T12:56:57.867027Z",
     "start_time": "2024-07-10T12:56:57.836753Z"
    }
   },
   "cell_type": "code",
   "source": [
    "def extggT(a,b):\n",
    "    if b == 0: return a,1,0\n",
    "    d,x,y = extggT(b, a % b)\n",
    "    return d,y,x-(a//b)*y\n",
    "\n",
    "\n",
    "def babystep_giantstep(n, a=3, y=11):\n",
    "    lower_sqrt_n = math.floor(math.sqrt(n))\n",
    "    higher_sqrt_n = math.ceil(math.sqrt(n))\n",
    "    v = (a ** higher_sqrt_n) % n\n",
    "    L = dict([((v ** x) % n, x) for x in range(lower_sqrt_n + 1)])\n",
    "    u = extggT(a, n)[1] % n\n",
    "    print(lower_sqrt_n, higher_sqrt_n, v, u)\n",
    "    print(L)\n",
    "    for x2 in range(lower_sqrt_n):\n",
    "        z = (y * (u ** x2)) % n\n",
    "        print(f\"z: {z}\")\n",
    "        if z in L:\n",
    "            print(f\"x1*higher_sqrt(n)+x2 = {L[z]}*{higher_sqrt_n}+{x2}\")\n",
    "            return L[z] * higher_sqrt_n + x2\n",
    "        \n",
    "\n",
    "def discrete_log(base, modulo):\n",
    "    return [(x, (base ** x) % modulo) for x in range (modulo)]\n",
    "        \n",
    "\n",
    "print(discrete_log(3, 137)[122])\n",
    "babystep_giantstep(137)"
   ],
   "id": "4e4d57b5ece50162",
   "outputs": [
    {
     "name": "stdout",
     "output_type": "stream",
     "text": [
      "(122, 11)\n",
      "11 12 18 46\n",
      "{1: 0, 18: 1, 50: 2, 78: 3, 34: 4, 64: 5, 56: 6, 49: 7, 60: 8, 121: 9, 123: 10, 22: 11}\n",
      "z: 11\n",
      "z: 95\n",
      "z: 123\n",
      "x1*higher_sqrt(n)+x2 = 10*12+2\n"
     ]
    },
    {
     "data": {
      "text/plain": [
       "122"
      ]
     },
     "execution_count": 17,
     "metadata": {},
     "output_type": "execute_result"
    }
   ],
   "execution_count": 17
  },
  {
   "metadata": {
    "ExecuteTime": {
     "end_time": "2024-07-10T12:14:40.298474Z",
     "start_time": "2024-07-10T12:14:40.262416Z"
    }
   },
   "cell_type": "code",
   "source": [
    "def phi(n):\n",
    "    prime_factors = gen_prime_factors(n)\n",
    "    phi = n\n",
    "    for p, e in prime_factors:\n",
    "        phi = phi * (1 - 1/p)\n",
    "    return int(phi)\n",
    "\n",
    "\n",
    "def RSA_find_smallest_e(n):\n",
    "    phi_n = phi(n)\n",
    "    for e in range(2, phi_n):\n",
    "        if ggT(e, phi_n) == 1:\n",
    "            return e\n",
    "    \n",
    "\n",
    "def RSA_d_to_e(e, n):\n",
    "    phi_n = phi(n)\n",
    "    return extggT(e, phi_n)[1] % phi_n\n",
    "\n",
    "\n",
    "def RSA_sign_m(m, d, n):\n",
    "    return m, mod_exp(m, d, n)\n",
    "\n",
    "\n",
    "def RSA_blend_m(m, e, z, n):\n",
    "    m_new = m*mod_exp(z,e,n) % n\n",
    "    return m_new\n",
    "\n",
    "\n",
    "n = 11 * 13\n",
    "e = RSA_find_smallest_e(n=n)\n",
    "d = RSA_d_to_e(e=e, n=n)\n",
    "z = 5\n",
    "m=9\n",
    "print(f\"n: {n}\")\n",
    "print(f\"e: {e}\")\n",
    "print(f\"d: {d}\")\n",
    "print(f\"m: {m}\")\n",
    "print(f\"z: {z}\")\n",
    "_, u = RSA_sign_m(m=m, d=d, n=n)\n",
    "m_new = RSA_blend_m(m=m, e=e, z=z, n=n)\n",
    "_, u_new = RSA_sign_m(m=m_new, d=d, n=n)\n",
    "print(f\"u: {m}^{d} mod {n} = {u}\")\n",
    "print(f\"Signature: ({m}, {u})\")\n",
    "print(f\"m_new: {m}*{z}^{e} mod {n} = {m_new}\")\n",
    "print(f\"u_new: {m_new}^{d} mod {n} = {u_new}\")\n",
    "print(f\"Signature: ({m_new}, {u_new})\")\n",
    "z_inv = extggT(z, n)[1] % n\n",
    "u_reverse = (u_new * z_inv) % n\n",
    "print(f\"z_inv: {z_inv}\")\n",
    "print(f\"u_reverse: {u_reverse}\")\n",
    "print(f\"u == u_reverse: {u == u_reverse}\")"
   ],
   "id": "e959fd0250abed1d",
   "outputs": [
    {
     "name": "stdout",
     "output_type": "stream",
     "text": [
      "n: 143\n",
      "e: 7\n",
      "d: 103\n",
      "m: 9\n",
      "z: 5\n",
      "u: 9^103 mod 143 = 113\n",
      "Signature: (9, 113)\n",
      "m_new: 9*5^7 mod 143 = 137\n",
      "u_new: 137^103 mod 143 = 136\n",
      "Signature: (137, 136)\n",
      "z_inv: 86\n",
      "u_reverse: 113\n",
      "u == u_reverse: True\n"
     ]
    }
   ],
   "execution_count": 6
  }
 ],
 "metadata": {
  "kernelspec": {
   "display_name": "Python 3",
   "language": "python",
   "name": "python3"
  },
  "language_info": {
   "codemirror_mode": {
    "name": "ipython",
    "version": 2
   },
   "file_extension": ".py",
   "mimetype": "text/x-python",
   "name": "python",
   "nbconvert_exporter": "python",
   "pygments_lexer": "ipython2",
   "version": "2.7.6"
  }
 },
 "nbformat": 4,
 "nbformat_minor": 5
}
