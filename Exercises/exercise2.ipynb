{
 "cells": [
  {
   "metadata": {
    "ExecuteTime": {
     "end_time": "2024-05-22T12:13:18.104685Z",
     "start_time": "2024-05-22T12:13:18.077369Z"
    }
   },
   "cell_type": "code",
   "source": [
    "from IPython.display import IFrame\n",
    "IFrame(\"Blatt02.pdf\", width=1000, height=500)"
   ],
   "id": "28e21f0935323996",
   "outputs": [
    {
     "data": {
      "text/plain": [
       "<IPython.lib.display.IFrame at 0x2073b08f790>"
      ],
      "text/html": [
       "\n",
       "        <iframe\n",
       "            width=\"1000\"\n",
       "            height=\"500\"\n",
       "            src=\"Blatt02.pdf\"\n",
       "            frameborder=\"0\"\n",
       "            allowfullscreen\n",
       "            \n",
       "        ></iframe>\n",
       "        "
      ]
     },
     "execution_count": 1,
     "metadata": {},
     "output_type": "execute_result"
    }
   ],
   "execution_count": 1
  },
  {
   "metadata": {},
   "cell_type": "markdown",
   "source": "# 2.1",
   "id": "360baaf39baa7f1d"
  },
  {
   "metadata": {},
   "cell_type": "markdown",
   "source": [
    "### x,y natural numbers with bitlength m,n, m>=n \n",
    "### k bitlength of quotient q of division of x by y\n",
    "### k subtractions to calculate q \n",
    "### n operations per subtraction of 2 numbers of length max n+1\n",
    "### -> k*n\n",
    "### x = 11011, y= 101\n",
    "###  11011:101=101\n",
    "### -101\n",
    "###  0011\n",
    "###  -000\n",
    "###    111\n",
    "###   -101\n",
    "###     10"
   ],
   "id": "d521186775df4694"
  },
  {
   "metadata": {},
   "cell_type": "markdown",
   "source": "# 2.2",
   "id": "8e221667dbbf019d"
  },
  {
   "metadata": {},
   "cell_type": "markdown",
   "source": [
    "| a   | b   | div | mod | d | x | y |\n",
    "|-----|-----|-----|----|---|---|---|\n",
    "| 47  | 263 | 0   | 47 | 1 | 28 | -5 |\n",
    "| 263 | 47  | 5   | 28 | 1 | -5 | 28 |\n",
    "| 47  | 28  | 1   | 19 | 1 | 3 | -5 |\n",
    "| 28  | 19  | 1   | 9  | 1 | -2 | 3 |\n",
    "| 19  | 9   | 2   | 1  | 1 | 1 | -2 |\n",
    "| 9   | 1   | 1   | 0  | 1 | 0 | 1 |\n",
    "| 1   | 0   |     |    | 1 | 1 | 0 |\n",
    "\n",
    "### ggT(47,263) = 1 = 28 \\* 47 - 5 \\* 263\n",
    "### 47\\*28 mod 263 = 1\n",
    "### 28 is inverse of 47 mod 263"
   ],
   "id": "16e40831830b5cc9"
  },
  {
   "metadata": {},
   "cell_type": "markdown",
   "source": "# 2.3",
   "id": "e1bdd111a3893cce"
  },
  {
   "metadata": {},
   "cell_type": "markdown",
   "source": [
    "### Z_14* = {1,3,5,9,11,13}\n",
    "\n",
    "| Z_14* | 1  | 3  | 5  | 9  | 11 | 13 | Inverse | Ordnung |\n",
    "|-------|----|----|----|----|----|----|---------|---------|\n",
    "| 1     | 1  | 3  | 5  | 9  | 11 | 13 | 1       | 1       |\n",
    "| 3     | 3  | 9  | 1  | 13 | 5  | 11 | 5       | 6       |\n",
    "| 5     | 5  | 1  | 11 | 3  | 13 | 9  | 3       | 6       |\n",
    "| 9     | 9  | 13 | 3  | 11 | 1  | 5  | 11      | 3       |\n",
    "| 11    | 11 | 5  | 13 | 1  | 9  | 3  | 9       | 3       |\n",
    "| 13    | 13 | 11 | 9  | 5  | 3  | 1  | 13      | 2       |\n"
   ],
   "id": "591c354a9a4cc870"
  },
  {
   "metadata": {},
   "cell_type": "markdown",
   "source": [
    "### a=3, k=6\n",
    "### 5: a^5  6/ggT(6,5)=6\n",
    "### 9: a^2  6/ggT(6,2)=3\n",
    "### 13: a^3 6/ggT(6,3)=2  \n",
    "### Ordnungen müssen Teiler von der Mächtigkeit von Z_14* sein (Mächtigkeit ist 6, also 1,2,3,6)"
   ],
   "id": "8b8ba0141cb71c14"
  },
  {
   "metadata": {},
   "cell_type": "markdown",
   "source": "# 2.4",
   "id": "872736872f57dd5c"
  },
  {
   "metadata": {},
   "cell_type": "markdown",
   "source": [
    "### x = 4 mod 9\n",
    "### x = 3 mod 8\n",
    "### x = 0 mod 7\n",
    "### 9,8,7 sind paarweise teilerfremd\n",
    "### n = 9\\*8\\*7 = 504\n",
    "### m1 = 504/9 = 56\n",
    "### m2 = 504/8 = 63\n",
    "### m3 = 504/7 = 72\n",
    "#\n",
    "### 56 = 2 mod 9 -> inverse: y1 = 5\n",
    "### 63 = 7 mod 8 -> inverse: y2 = 7\n",
    "### 72 = 2 mod 7 -> inverse: y3 = 4\n",
    "#\n",
    "### x = 4\\*5\\*56 + 3\\*7\\*63 + 0\\*4\\*72) mod 504 = 427"
   ],
   "id": "430f2f90854a1ae5"
  },
  {
   "metadata": {},
   "cell_type": "markdown",
   "source": "# 2.5",
   "id": "419b6dd7ad4696f5"
  },
  {
   "metadata": {},
   "cell_type": "markdown",
   "source": [
    "### Z_5* = {1,2,3,4}\n",
    "### Z_8* = {1,3,5,7}\n",
    "### z_40* = {1,3,7,9,11,13,17,19,21,23,27,29,31,33,37,39}\n",
    "#\n",
    "\n",
    "| Z_40 | 0  | 1  | 2  | 3  | 4  | 5  | 6  | 7  |\n",
    "|------|----|----|----|----|----|----|----|----|\n",
    "| 0    | 0  | 25 | 10 | 35 | 20 | 5  | 30 | 15 |\n",
    "| 1    | 16 | 1  | 26 | 11 | 36 | 21 | 6  | 31 |\n",
    "| 2    | 32 | 17 | 2  | 27 | 12 | 37 | 22 | 7  |\n",
    "| 3    | 8  | 33 | 18 | 3  | 28 | 13 | 38 | 23 |\n",
    "| 4    | 24 | 9  | 34 | 19 | 4  | 29 | 14 | 39 |\n",
    "\n",
    "#\n",
    "\n",
    "| Z_40* | 1  | 3  | 5  | 7  |\n",
    "|-------|----|----|----|----|\n",
    "| 1     | 1  | 11 | 21 | 31 |\n",
    "| 2     | 17 | 27 | 37 | 7  |\n",
    "| 3     | 33 | 3  | 13 | 23 |\n",
    "| 4     | 9  | 19 | 29 | 39 |"
   ],
   "id": "b7d9a2b42d35e62"
  },
  {
   "metadata": {},
   "cell_type": "markdown",
   "source": "# 2.6",
   "id": "bdb8263460ff65ee"
  },
  {
   "metadata": {},
   "cell_type": "markdown",
   "source": [
    "### a) phi(2<sup>5</sup>\\*3<sup>2</sup>\\*5<sup>4</sup>\\*11<sup>3</sup>\\*17) = 1\\*2<sup>4</sup>\\*2\\*3<sup>1</sup>\\*4\\*5<sup>3</sup>\\*10\\*11<sup>2</sup>\\*16 = 929.280.000\n",
    "### b) Each number greater 2 is either an uneven prime number p -> phi(p) = p-1 which is even or can be disassembled into its prime factorization which contains again at least one uneven prime number or is a product of only 2's: 2<sup>k</sup> and phi(2<sup>k</sup>) = 1\\*2<sup>k-1</sup>\n",
    "### c) 27<sup>101</sup> mod 101:\n",
    "### 101<sub>2</sub> = 1100101\n",
    "| i | d                                |\n",
    "|---|----------------------------------|\n",
    "| 6 | 1<sup>2</sup>\\*27 = 27 mod 101   |\n",
    "| 5 | 27<sup>2</sup>\\*27 = 89 mod 101  |\n",
    "| 4 | 89<sup>2</sup> = 43 mod 101      |\n",
    "| 3 | 43<sup>2</sup> = 31 mod 101      |\n",
    "| 2 | 31<sup>2</sup>\\*27 = 91 mod 101  |\n",
    "| 1 | 91<sup>2</sup> = 100 mod 101     |\n",
    "| 0 | 100<sup>2</sup>\\*27 = 27 mod 101 |\n",
    "\n",
    "### kleiner Satz von Fermat a<sup>n-1</sup> = 1 mod n\n",
    "### 27<sup>101</sup> = 27\\*27<sup>100</sup> = 27 mod 101"
   ],
   "id": "a3da4918d9992eb9"
  },
  {
   "metadata": {},
   "cell_type": "markdown",
   "source": "# 2.7",
   "id": "e07f44e2a8adb642"
  },
  {
   "metadata": {},
   "cell_type": "markdown",
   "source": [
    "### a>b>0\n",
    "### H_k={(a,b)|ggT(a,b) benötigt k Modulo-Rechnungen}\n",
    "### F_0=0, F_1=1, F_k+1=F_k+F_k-1\n",
    "### Für alle k >= 1: (F_k+2, F_k+1) ist kleinste Eingabe in H_k\n",
    "### \n",
    "### 1) (F_k+2,F_k+1) el. H_k\n",
    "### 2) F_k+2 = min{a|b<a:(a,b) el. H_k}\n",
    "### 3) F_k+1 = min{b|a>b:(a,b) el. H_k}\n",
    "#\n",
    "### (F_3, F_2) el. H1: ggT(2,1) = ggT(1,1 - 2 mod 1) = ggT(1,0) = 1\n",
    "### F_3 = 2 = min{a|b<a:(a,b) el. H_1}: Angenommen Ex. a'<a mit dieser Eigenschaft => b<a'<a: (a#,b) el. H_1 => b=0 Widerspruch\n",
    "### F_2 = 1 = min{b|a>b:(a,b) el. H_1}: Angenommen Ex. b'<b mit dieser Eigenschaft => b'=0 Widerspruch\n",
    "### Aussage gilt für k: Für k+1 zeigen:\n",
    "### (F_k+3, F_k+2) el. H_k+1 => (F_k+2, F_k+3 mod F_k+2) = (F_k+2, F_k+1) el. H_k\n",
    "### F_k+3 = min{a|b<a:(a,b) el. H_k+1}: Angenommen Ex. a': F_k+2 +1 <a'<F_k+3 -1 mit dieser Eigenschaft => Ex. b<a:(a,b) el. H_k+1 => (b, a mod b) el. H_k => b >= F_k+2, a mod b >= F_k+1 => b + a mod b = a >= F_k+2 + F_k+1 = F_k+3 Widerspruch\n",
    "### F_k+2 = min{b|a>b:(a,b) el. H_k+1}: Angenommen Ex. b': F_k+1 +1 <b'<F_k+2 -1 mit dieser Eigenschaft => Ex. a>b:(a,b) el. H_k+1 => (b, a mod b) el. H_k => b >= F_k+2 Widerspruch"
   ],
   "id": "248dcc8406245522"
  },
  {
   "metadata": {
    "ExecuteTime": {
     "end_time": "2024-05-22T12:13:18.113710Z",
     "start_time": "2024-05-22T12:13:18.108697Z"
    }
   },
   "cell_type": "code",
   "source": "",
   "id": "9b1887adb3d26aa7",
   "outputs": [],
   "execution_count": 1
  }
 ],
 "metadata": {
  "kernelspec": {
   "display_name": "Python 3",
   "language": "python",
   "name": "python3"
  },
  "language_info": {
   "codemirror_mode": {
    "name": "ipython",
    "version": 2
   },
   "file_extension": ".py",
   "mimetype": "text/x-python",
   "name": "python",
   "nbconvert_exporter": "python",
   "pygments_lexer": "ipython2",
   "version": "2.7.6"
  }
 },
 "nbformat": 4,
 "nbformat_minor": 5
}
