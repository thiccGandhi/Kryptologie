{
 "cells": [
  {
   "cell_type": "code",
   "id": "initial_id",
   "metadata": {
    "collapsed": true,
    "ExecuteTime": {
     "end_time": "2024-06-03T14:58:07.055466Z",
     "start_time": "2024-06-03T14:58:07.029023Z"
    }
   },
   "source": [
    "from IPython.display import IFrame\n",
    "IFrame(\"Blatt03.pdf\", width=1000, height=500)"
   ],
   "outputs": [
    {
     "data": {
      "text/plain": [
       "<IPython.lib.display.IFrame at 0x1c1b131b1d0>"
      ],
      "text/html": [
       "\n",
       "        <iframe\n",
       "            width=\"1000\"\n",
       "            height=\"500\"\n",
       "            src=\"Blatt03.pdf\"\n",
       "            frameborder=\"0\"\n",
       "            allowfullscreen\n",
       "            \n",
       "        ></iframe>\n",
       "        "
      ]
     },
     "execution_count": 11,
     "metadata": {},
     "output_type": "execute_result"
    }
   ],
   "execution_count": 11
  },
  {
   "metadata": {},
   "cell_type": "markdown",
   "source": [
    "\n",
    "# 3.1\n",
    "\n",
    "n=p\\*q (big primenumbers)\\\n",
    "e relatively prime to phi(n)=(p-1)\\*(q-1) -> ggT(e, phi(n)) = 1\\\n",
    "d is multiplicative inverse to e mod phi(n)\\\n",
    "(n,e) is public key, d private key\\\n",
    "c = m<sup>e</sup> mod n\\\n",
    "m = c<sup>d</sup> mod n\n",
    "\n",
    "without knowing what the original m was, or deciphering it with d, we know that there are 102 $c_{A}'s$, 154 $c_{B}'s$, 87 $c_{C}'s$ and 23 $c_{E}'s$, because they use all the same public/private keys\\\n",
    "now we know which c corresponds to which vote and then just look which person sends which c to know who they voted for"
   ],
   "id": "9c8f9963a26cca69"
  },
  {
   "metadata": {},
   "cell_type": "markdown",
   "source": [
    "\n",
    "# 3.2\n",
    "\n",
    "n = 77 = 11 \\* 7\\\n",
    "e = 17\\\n",
    "phi(n) = 60\\\n",
    "d\\*e ≡ 1 mod 60\\\n",
    "-7\\*17 ≡ 1 mod 60\\\n",
    "53\\*17 ≡ 1 mod 60\\\n",
    "$c^{d}$ = $42^{53}$ ≡ 12 mod 77\\\n",
    "m = 14"
   ],
   "id": "d034be0eb876b907"
  },
  {
   "metadata": {
    "ExecuteTime": {
     "end_time": "2024-06-03T14:58:07.246419Z",
     "start_time": "2024-06-03T14:58:07.225774Z"
    }
   },
   "cell_type": "code",
   "source": [
    "def extggT(a,b):\n",
    "    if b == 0: return a,1,0\n",
    "    d,x,y = extggT(b, a % b)\n",
    "    return d,y,x-(a//b)*y\n",
    "\n",
    "extggT(17,60)"
   ],
   "id": "3931c826e4b6e0a3",
   "outputs": [
    {
     "data": {
      "text/plain": [
       "(1, -7, 2)"
      ]
     },
     "execution_count": 12,
     "metadata": {},
     "output_type": "execute_result"
    }
   ],
   "execution_count": 12
  },
  {
   "metadata": {},
   "cell_type": "markdown",
   "source": [
    "\n",
    "# 3.3\n",
    "\n",
    "n = p\\*q\\\n",
    "(n,e) public key\\\n",
    "$c=m^{e}\\ mod\\ n$, d multiplicative inverse to e\\\n",
    "$m_p≡m\\ mod\\ p$\\\n",
    "$m_q≡m\\ mod\\ q$\\\n",
    "Let $c_p≡c\\ mod\\ p$ and $c_q≡m\\ mod\\ q$\\\n",
    "and $d_p≡d\\ mod\\ p-1$ and $d_q≡d\\ mod\\ q-1$\\\n",
    "$m_p=m\\ mod\\ p\\ =\\ (c^d\\ mod\\ n)\\ mod\\ p\\ =\\ c^d\\ mod\\ p$\\\n",
    "$=\\ c^{d_p}\\ mod\\ p\\ =\\ c^{d_p}_p\\ mod\\ p$\\\n",
    "same with $m_q=c^{d_q}_q\\ mod\\ q$\\\n",
    "Let $r_1=n/p=q,\\ r_2=n/q=p$\\\n",
    "$m=(m_p r_1(r^{-1}_1\\ mod\\ p)+m_qr_2(r^{-1}_2\\ mod\\ q))\\ mod\\ n$\\\n",
    "$=(m_qq(q^{-1}\\ mod\\ p)+m_qp(p^{-1}\\ mod\\ q))\\ mod\\ n$\\\n",
    "$=(m_pq(q^{p-2}\\ mod\\ p)+m_qp(p^{q-2}\\ mod\\ q))\\ mod\\ n$\\\n",
    "$=(m_p(q^{p-1}\\ mod\\ n)+m_q(p^{q-1}\\ mod\\ n))\\ mod\\ n$\\\n",
    "instead of calculation in group n, we now calculate in groups p and q"
   ],
   "id": "20ac880e70f702c6"
  },
  {
   "metadata": {},
   "cell_type": "markdown",
   "source": [
    "\n",
    "# 3.4\n",
    "\n",
    "$2^{51}\\ mod\\ 11$\\\n",
    "$51\\ =\\ (110011)_{2}$\n",
    "\n",
    "| i | d                         |\n",
    "|---|---------------------------|\n",
    "| 5 | $1^{2}*2\\ mod\\ 11\\ =\\ 2$  |\n",
    "| 4 | $2^{2}*2\\ mod\\ 11\\ =\\ 8$  |\n",
    "| 3 | $8^{2} mod\\ 11\\ =\\ 9$     |\n",
    "| 2 | $9^{2} mod\\ 11\\ =\\ 4$     |\n",
    "| 1 | $4^{2}*2\\ mod\\ 11\\ =\\ 10$ |\n",
    "| 0 | $10^{2}*2\\ mod\\ 11\\ =\\ 2$ |\n",
    "\n",
    "$2^{51}\\ mod\\ 11\\ =\\ 2$"
   ],
   "id": "f18672728ed26945"
  },
  {
   "metadata": {},
   "cell_type": "markdown",
   "source": [
    "\n",
    "# 3.5\n",
    "\n"
   ],
   "id": "40b699b4ac653db9"
  },
  {
   "metadata": {
    "ExecuteTime": {
     "end_time": "2024-07-09T08:41:07.097024Z",
     "start_time": "2024-07-09T08:41:07.079743Z"
    }
   },
   "cell_type": "code",
   "source": [
    "def ggT(a,b):\n",
    "    if b == 0: return a\n",
    "    return ggT(b, a % b)\n",
    "\n",
    "\n",
    "def get_zn_star(n):\n",
    "    zn_star = []\n",
    "    for i in range(1, n):\n",
    "        if ggT(n,i) == 1:\n",
    "            zn_star.append(i)\n",
    "    return zn_star\n",
    "\n",
    "\n",
    "def generate_subgroups(n):\n",
    "    zn_star = get_zn_star(n)\n",
    "    print(f\"Z_{n}* = [\" + \",\".join(str(x) for x in zn_star) + f\"] with cardinality = {len(zn_star)}\")\n",
    "    prim_roots = []\n",
    "    for a in zn_star:\n",
    "        subgroup = [1]\n",
    "        for i in range(1, n):\n",
    "            if (a**i) % n == 1: break\n",
    "            subgroup.append(a**i % n)\n",
    "        if len(subgroup) == len(zn_star): prim_roots.append(a)\n",
    "        print(f\"<{a}> = [\" + \",\".join(str(x) for x in subgroup) + f\"] with cardinality = {len(subgroup)}\")\n",
    "    print(f\"prime roots of Z_{n}* are \" + str(prim_roots))\n",
    "\n",
    "\n",
    "generate_subgroups(18)\n",
    "generate_subgroups(11)\n"
   ],
   "id": "cef341f4246bd4d7",
   "outputs": [
    {
     "name": "stdout",
     "output_type": "stream",
     "text": [
      "Z_18* = [1,5,7,11,13,17] with cardinality = 6\n",
      "<1> = [1] with cardinality = 1\n",
      "<5> = [1,5,7,17,13,11] with cardinality = 6\n",
      "<7> = [1,7,13] with cardinality = 3\n",
      "<11> = [1,11,13,17,7,5] with cardinality = 6\n",
      "<13> = [1,13,7] with cardinality = 3\n",
      "<17> = [1,17] with cardinality = 2\n",
      "prime roots of Z_18* are [5, 11]\n",
      "Z_11* = [1,2,3,4,5,6,7,8,9,10] with cardinality = 10\n",
      "<1> = [1] with cardinality = 1\n",
      "<2> = [1,2,4,8,5,10,9,7,3,6] with cardinality = 10\n",
      "<3> = [1,3,9,5,4] with cardinality = 5\n",
      "<4> = [1,4,5,9,3] with cardinality = 5\n",
      "<5> = [1,5,3,4,9] with cardinality = 5\n",
      "<6> = [1,6,3,7,9,10,5,8,4,2] with cardinality = 10\n",
      "<7> = [1,7,5,2,3,10,4,6,9,8] with cardinality = 10\n",
      "<8> = [1,8,9,6,4,10,3,2,5,7] with cardinality = 10\n",
      "<9> = [1,9,4,3,5] with cardinality = 5\n",
      "<10> = [1,10] with cardinality = 2\n",
      "prime roots of Z_11* are [2, 6, 7, 8]\n"
     ]
    }
   ],
   "execution_count": 5
  },
  {
   "metadata": {
    "ExecuteTime": {
     "end_time": "2024-07-09T08:40:56.657572Z",
     "start_time": "2024-07-09T08:40:56.617678Z"
    }
   },
   "cell_type": "code",
   "source": [
    "def gen_prime_factors(n):\n",
    "    i = 2\n",
    "    factors = []\n",
    "    while i * i <= n:\n",
    "        if n % i:\n",
    "            i += 1\n",
    "        else:\n",
    "            n //= i\n",
    "            factors.append(i)\n",
    "    if n > 1:\n",
    "        factors.append(n)\n",
    "    return list(set([(x, factors.count(x)) for x in factors]))\n",
    "\n",
    "\n",
    "def check_cyclic(n):\n",
    "    if n in [1,2,4]: return True\n",
    "    prime_factors = gen_prime_factors(n)\n",
    "    print(f\"prime factors of {n} = {prime_factors}\")\n",
    "    if len(prime_factors) == 1 and (2,_) in prime_factors: return False\n",
    "    if len(prime_factors) == 1: return True\n",
    "    if len(prime_factors) == 2 and (2,1) in prime_factors: return True\n",
    "    return False\n",
    "\n",
    "\n",
    "print(\"cyclic: \" + str(check_cyclic(30)))\n",
    "print(\"cyclic: \" + str(check_cyclic(27)))\n",
    "print(\"cyclic: \" + str(check_cyclic(125)))\n",
    "print(\"cyclic: \" + str(check_cyclic(101)))\n",
    "print(\"cyclic: \" + str(check_cyclic(64)))\n",
    "print(\"cyclic: \" + str(check_cyclic(10)))\n",
    "print(\"cyclic: \" + str(check_cyclic(18)))\n",
    "print(\"cyclic: \" + str(check_cyclic(15)))\n",
    "print(\"cyclic: \" + str(check_cyclic(20)))\n",
    "print(\"cyclic: \" + str(check_cyclic(11*13)))\n",
    "print(\"cyclic: \" + str(check_cyclic(11)))"
   ],
   "id": "d6a4a007018a516e",
   "outputs": [
    {
     "name": "stdout",
     "output_type": "stream",
     "text": [
      "prime factors of 30 = [(3, 1), (5, 1), (2, 1)]\n",
      "cyclic: False\n",
      "prime factors of 27 = [(3, 3)]\n",
      "cyclic: True\n",
      "prime factors of 125 = [(5, 3)]\n",
      "cyclic: True\n",
      "prime factors of 101 = [(101, 1)]\n",
      "cyclic: True\n",
      "prime factors of 64 = [(2, 6)]\n",
      "cyclic: True\n",
      "prime factors of 10 = [(5, 1), (2, 1)]\n",
      "cyclic: True\n",
      "prime factors of 18 = [(3, 2), (2, 1)]\n",
      "cyclic: True\n",
      "prime factors of 15 = [(3, 1), (5, 1)]\n",
      "cyclic: False\n",
      "prime factors of 20 = [(5, 1), (2, 2)]\n",
      "cyclic: False\n",
      "prime factors of 143 = [(11, 1), (13, 1)]\n",
      "cyclic: False\n",
      "prime factors of 11 = [(11, 1)]\n",
      "cyclic: True\n"
     ]
    }
   ],
   "execution_count": 4
  },
  {
   "metadata": {},
   "cell_type": "markdown",
   "source": [
    "# \n",
    "$2^k, k≠1$ is not cyclic\n"
   ],
   "id": "56e9bc8e31875a1"
  },
  {
   "metadata": {},
   "cell_type": "markdown",
   "source": [
    "\n",
    "# 3.6\n",
    "\n",
    "prime root a mod 29\\\n",
    "a should generate all elements of $Z_{29}^{*}$ or in other words $|<a>|$ = $|Z_{29}^{*}|$\\\n",
    "$phi(29)=28=2^2\\*7$, so $a^{28/2}≢1\\ mod\\ 29$ and $a^{28/7}≢1\\ mod\\ 29$\\\n",
    "prim roots of $Z_{29}^{*}$ are [2, 3, 8, 10, 11, 14, 15, 18, 19, 21, 26, 27]\n"
   ],
   "id": "dfd26bc114d0a835"
  },
  {
   "metadata": {
    "ExecuteTime": {
     "end_time": "2024-06-03T15:07:22.008019Z",
     "start_time": "2024-06-03T15:07:21.994361Z"
    }
   },
   "cell_type": "code",
   "source": "generate_subgroups(29)",
   "id": "41acae1b609a1303",
   "outputs": [
    {
     "name": "stdout",
     "output_type": "stream",
     "text": [
      "Z_29* = [1,2,3,4,5,6,7,8,9,10,11,12,13,14,15,16,17,18,19,20,21,22,23,24,25,26,27,28] with cardinality = 28\n",
      "<1> = [1] with cardinality = 1\n",
      "<2> = [1,2,4,8,16,3,6,12,24,19,9,18,7,14,28,27,25,21,13,26,23,17,5,10,20,11,22,15] with cardinality = 28\n",
      "<3> = [1,3,9,27,23,11,4,12,7,21,5,15,16,19,28,26,20,2,6,18,25,17,22,8,24,14,13,10] with cardinality = 28\n",
      "<4> = [1,4,16,6,24,9,7,28,25,13,23,5,20,22] with cardinality = 14\n",
      "<5> = [1,5,25,9,16,22,23,28,24,4,20,13,7,6] with cardinality = 14\n",
      "<6> = [1,6,7,13,20,4,24,28,23,22,16,9,25,5] with cardinality = 14\n",
      "<7> = [1,7,20,24,23,16,25] with cardinality = 7\n",
      "<8> = [1,8,6,19,7,27,13,17,20,15,4,3,24,18,28,21,23,10,22,2,16,12,9,14,25,26,5,11] with cardinality = 28\n",
      "<9> = [1,9,23,4,7,5,16,28,20,6,25,22,24,13] with cardinality = 14\n",
      "<10> = [1,10,13,14,24,8,22,17,25,18,6,2,20,26,28,19,16,15,5,21,7,12,4,11,23,27,9,3] with cardinality = 28\n",
      "<11> = [1,11,5,26,25,14,9,12,16,2,22,10,23,21,28,18,24,3,4,15,20,17,13,27,7,19,6,8] with cardinality = 28\n",
      "<12> = [1,12,28,17] with cardinality = 4\n",
      "<13> = [1,13,24,22,25,6,20,28,16,5,7,4,23,9] with cardinality = 14\n",
      "<14> = [1,14,22,18,20,19,5,12,23,3,13,8,25,2,28,15,7,11,9,10,24,17,6,26,16,21,4,27] with cardinality = 28\n",
      "<15> = [1,15,22,11,20,10,5,17,23,26,13,21,25,27,28,14,7,18,9,19,24,12,6,3,16,8,4,2] with cardinality = 28\n",
      "<16> = [1,16,24,7,25,23,20] with cardinality = 7\n",
      "<17> = [1,17,28,12] with cardinality = 4\n",
      "<18> = [1,18,5,3,25,15,9,17,16,27,22,19,23,8,28,11,24,26,4,14,20,12,13,2,7,10,6,21] with cardinality = 28\n",
      "<19> = [1,19,13,15,24,21,22,12,25,11,6,27,20,3,28,10,16,14,5,8,7,17,4,18,23,2,9,26] with cardinality = 28\n",
      "<20> = [1,20,23,25,7,24,16] with cardinality = 7\n",
      "<21> = [1,21,6,10,7,2,13,12,20,14,4,26,24,11,28,8,23,19,22,27,16,17,9,15,25,3,5,18] with cardinality = 28\n",
      "<22> = [1,22,20,5,23,13,25,28,7,9,24,6,16,4] with cardinality = 14\n",
      "<23> = [1,23,7,16,20,25,24] with cardinality = 7\n",
      "<24> = [1,24,25,20,16,7,23] with cardinality = 7\n",
      "<25> = [1,25,16,23,24,20,7] with cardinality = 7\n",
      "<26> = [1,26,9,2,23,18,4,17,7,8,5,14,16,10,28,3,20,27,6,11,25,12,22,21,24,15,13,19] with cardinality = 28\n",
      "<27> = [1,27,4,21,16,26,6,17,24,10,9,11,7,15,28,2,25,8,13,3,23,12,5,19,20,18,22,14] with cardinality = 28\n",
      "<28> = [1,28] with cardinality = 2\n",
      "prime roots of Z_29* are [2, 3, 8, 10, 11, 14, 15, 18, 19, 21, 26, 27]\n"
     ]
    }
   ],
   "execution_count": 18
  },
  {
   "metadata": {
    "ExecuteTime": {
     "end_time": "2024-06-03T14:58:07.639043Z",
     "start_time": "2024-06-03T14:58:07.629087Z"
    }
   },
   "cell_type": "code",
   "source": "",
   "id": "c4f422a0ad670dbc",
   "outputs": [],
   "execution_count": 15
  }
 ],
 "metadata": {
  "kernelspec": {
   "display_name": "Python 3",
   "language": "python",
   "name": "python3"
  },
  "language_info": {
   "codemirror_mode": {
    "name": "ipython",
    "version": 2
   },
   "file_extension": ".py",
   "mimetype": "text/x-python",
   "name": "python",
   "nbconvert_exporter": "python",
   "pygments_lexer": "ipython2",
   "version": "2.7.6"
  }
 },
 "nbformat": 4,
 "nbformat_minor": 5
}
