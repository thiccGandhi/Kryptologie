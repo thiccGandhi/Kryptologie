{
 "cells": [
  {
   "metadata": {},
   "cell_type": "markdown",
   "source": [
    "## Exercise 1\n",
    "\n",
    "### 1.1"
   ],
   "id": "b62abf25078c8814"
  },
  {
   "cell_type": "code",
   "id": "initial_id",
   "metadata": {
    "collapsed": true,
    "ExecuteTime": {
     "end_time": "2024-04-29T14:10:01.981109Z",
     "start_time": "2024-04-29T14:10:01.960648Z"
    }
   },
   "source": [
    "import numpy as np\n",
    "from IPython.display import IFrame\n",
    "import string\n",
    "IFrame(\"Blatt01.pdf\", width=1000, height=500)"
   ],
   "outputs": [
    {
     "data": {
      "text/plain": [
       "<IPython.lib.display.IFrame at 0x2b36f062f90>"
      ],
      "text/html": [
       "\n",
       "        <iframe\n",
       "            width=\"1000\"\n",
       "            height=\"500\"\n",
       "            src=\"Blatt01.pdf\"\n",
       "            frameborder=\"0\"\n",
       "            allowfullscreen\n",
       "            \n",
       "        ></iframe>\n",
       "        "
      ]
     },
     "execution_count": 9,
     "metadata": {},
     "output_type": "execute_result"
    }
   ],
   "execution_count": 9
  },
  {
   "metadata": {},
   "cell_type": "markdown",
   "source": [
    "# k = (a,b) \n",
    "# E(x, (a,b)) = (ax+b) mod 26\n",
    "# ggT(a,26) = 1\n",
    "# A B C D E F G H I J K  L  M  N  O  P  Q  R  S  T  U  V  W  X  Y  Z\n",
    "# 0 1 2 3 4 5 6 7 8 9 10 11 12 13 14 15 16 17 18 19 20 21 22 23 24 25\n",
    "# M -> P, 12 -> 15, +3\n",
    "# B -> K, 1 -> 10 +9\n",
    "# I)  (12a+b) mod 26 = 15\n",
    "# II) (1a+b) mod 26 = 10 -> a mod 26 = 10-b mod 26\n",
    "# II in I: (12 * (10-b) + b) mod 26 = 15\n",
    "#          (120 -11b) mod 26 = 15\n",
    "#          (16+15b) mod 26 = 15\n",
    "#          15b mod 26 = 25\n",
    "# possibilities for b:\n",
    "# 26, 52, 78, 104, 130, 156, 182, 208, 234, 260, 286, 312\n",
    "# 1: 15 mod 26 = 15\n",
    "# 2: 30 mod 26 = 4\n",
    "# 3: 45 mod 26 = 19\n",
    "# 4: 60 mod 26 = 8\n",
    "# 5: 75 mod 26 = 23\n",
    "# 6: 90 mod 26 = 12\n",
    "# 7: 105 mod 26 = 1\n",
    "# 8: 120 mod 26 = 16\n",
    "# 9: 135 mod 26 = 5\n",
    "# 10: 150 mod 26 = 20\n",
    "# 11: 165 mod 26 = 9\n",
    "# 12: 180 mod 26 = 24\n",
    "# 13: 195 mod 26 = 13\n",
    "# 14: 210 mod 26 = 2\n",
    "# 15: 225 mod 26 = 17\n",
    "# 16: 240 mod 26 = 6\n",
    "# 17: 255 mod 26 = 21\n",
    "# 18: 270 mod 26 = 10\n",
    "# 19: 285 mod 26 = 25 <--\n",
    "# 20: 300 mod 26 = 14\n",
    "\n",
    "# b = 19\n",
    "# b in II: a mod 26 = 10-b mod 26\n",
    "# a mod 26 = 10-19 mod 26\n",
    "# a mod 26 = -9 mod 26\n",
    "# a = 17 \n",
    "\n",
    "# k = (17, 19)"
   ],
   "id": "34279f133615bf00"
  },
  {
   "metadata": {},
   "cell_type": "markdown",
   "source": [
    "# c2 = (a2c1 + b2) mod 26\n",
    "# c2 = (a2(a1m + b1) + b2) mod 26\n",
    "# c2 = (a2a1m + a2b1 + b2) mod 26\n",
    "# c2 = (a3m + b3) mod 26, with a3 = a2a1 mod 26, b3 = a2b1 + b2 mod 26\n",
    "# just one affine encryption again, so no improvement"
   ],
   "id": "eb28152971554fbe"
  },
  {
   "metadata": {},
   "cell_type": "markdown",
   "source": [
    "\n",
    "# 1.2"
   ],
   "id": "227c48eab86f61ff"
  },
  {
   "metadata": {
    "ExecuteTime": {
     "end_time": "2024-04-29T14:10:02.178331Z",
     "start_time": "2024-04-29T14:10:02.159115Z"
    }
   },
   "cell_type": "code",
   "source": [
    "def playfair_chiffre(m, k):\n",
    "    if len(m) % 2 == 1:\n",
    "        m += 'X'\n",
    "    print(m)\n",
    "    alphabet = [\"A\", \"B\", \"C\", \"D\", \"E\", \"F\", \"G\", \"H\", \"I\", \"K\", \"L\", \"M\", \"N\", \"O\", \"P\", \"Q\", \"R\", \"S\", \"T\", \"U\", \"V\", \"W\", \"X\", \"Y\", \"Z\"]\n",
    "    chiffre_table = list(k) + [x for x in alphabet if x not in k]\n",
    "    chiffre_table = np.array(chiffre_table).reshape(5, 5)\n",
    "    print(chiffre_table)\n",
    "    bigrams = [m[i:i+2] for i in range(0, len(m), 2)]\n",
    "    print(bigrams)\n",
    "    cipher_bigrams = []\n",
    "    for x in bigrams:\n",
    "        i1, j1 = np.where(chiffre_table == x[0])\n",
    "        i2, j2 = np.where(chiffre_table == x[1])\n",
    "        if i1 == i2:\n",
    "            j1 = (j1 + 1) % len(chiffre_table[0])\n",
    "            j2 = (j2 + 1) % len(chiffre_table[0])\n",
    "        elif j1 == j2:\n",
    "            i1 = (i1 + 1) % len(chiffre_table)\n",
    "            i2 = (i2 + 1) % len(chiffre_table)\n",
    "        else:\n",
    "            temp = j1\n",
    "            j1 = j2\n",
    "            j2 = temp\n",
    "        cipher = chiffre_table[i1, j1][0] + chiffre_table[i2, j2][0]\n",
    "        cipher_bigrams.append(cipher)\n",
    "    print(cipher_bigrams)\n",
    "    return \"\".join(cipher_bigrams)"
   ],
   "id": "a2ecd6aa995aa51a",
   "outputs": [],
   "execution_count": 10
  },
  {
   "metadata": {
    "ExecuteTime": {
     "end_time": "2024-04-29T14:10:02.239800Z",
     "start_time": "2024-04-29T14:10:02.226188Z"
    }
   },
   "cell_type": "code",
   "source": [
    "def vigenere_chiffre(m, k):\n",
    "    k = (k * (len(m) // len(k) + 1))[:len(m)]\n",
    "    alphabet = string.ascii_uppercase\n",
    "    cipher = \"\"\n",
    "    for i in range(len(m)):\n",
    "        a = alphabet.find(m[i])\n",
    "        b = alphabet.find(k[i])\n",
    "        c = (a+b) % len(alphabet)\n",
    "        cipher += alphabet[c]\n",
    "    return cipher"
   ],
   "id": "6b90a31f9979b1e4",
   "outputs": [],
   "execution_count": 11
  },
  {
   "metadata": {
    "ExecuteTime": {
     "end_time": "2024-04-29T14:10:02.428142Z",
     "start_time": "2024-04-29T14:10:02.407223Z"
    }
   },
   "cell_type": "code",
   "source": "playfair_chiffre(\"SAMSTAGNACHMITTAGDIESTADTANGREIFEN\", \"KRYPTO\")",
   "id": "6da1d985917d47c",
   "outputs": [
    {
     "name": "stdout",
     "output_type": "stream",
     "text": [
      "SAMSTAGNACHMITTAGDIESTADTANGREIFEN\n",
      "[['K' 'R' 'Y' 'P' 'T']\n",
      " ['O' 'A' 'B' 'C' 'D']\n",
      " ['E' 'F' 'G' 'H' 'I']\n",
      " ['L' 'M' 'N' 'Q' 'S']\n",
      " ['U' 'V' 'W' 'X' 'Z']]\n",
      "['SA', 'MS', 'TA', 'GN', 'AC', 'HM', 'IT', 'TA', 'GD', 'IE', 'ST', 'AD', 'TA', 'NG', 'RE', 'IF', 'EN']\n",
      "['MD', 'NL', 'RD', 'NW', 'BD', 'FQ', 'SD', 'RD', 'IB', 'EF', 'ZD', 'BO', 'RD', 'WN', 'KF', 'EG', 'GL']\n"
     ]
    },
    {
     "data": {
      "text/plain": [
       "'MDNLRDNWBDFQSDRDIBEFZDBORDWNKFEGGL'"
      ]
     },
     "execution_count": 12,
     "metadata": {},
     "output_type": "execute_result"
    }
   ],
   "execution_count": 12
  },
  {
   "metadata": {
    "ExecuteTime": {
     "end_time": "2024-04-29T14:10:02.577816Z",
     "start_time": "2024-04-29T14:10:02.563994Z"
    }
   },
   "cell_type": "code",
   "source": "vigenere_chiffre(\"SAMSTAGNACHMITTAGDIESTADTANGREIFEN\", \"KRYPTO\")",
   "id": "ec50bcc0f18a1cb0",
   "outputs": [
    {
     "data": {
      "text/plain": [
       "'CRKHMOQEYRAASKRPZRSVQITRDRLVKSSWCC'"
      ]
     },
     "execution_count": 13,
     "metadata": {},
     "output_type": "execute_result"
    }
   ],
   "execution_count": 13
  },
  {
   "metadata": {},
   "cell_type": "markdown",
   "source": "# 1.3",
   "id": "fcbc7df7b1955bfe"
  },
  {
   "metadata": {},
   "cell_type": "markdown",
   "source": [
    "# S1 = {1} -> d1 = 0\n",
    "# S2 = {1,2} -> d2 = 1\n",
    "#\n",
    "# (1 ... i ... j ... n)\n",
    "# (  ... j ... != i ... )     pi(i) = j, pi(j) != i -> n-2 for d_n-2\n",
    "# (  ... j ... i ...  )       pi(i) = j, pi(j) = i -> n-1 for d_n-1\n",
    "# n-1 possible values for j -> d_n = (n-1) (d_n-1 + d_n-2)"
   ],
   "id": "cfa9a7512c3ca50c"
  },
  {
   "metadata": {},
   "cell_type": "markdown",
   "source": "# 1.4",
   "id": "379b5321909b7751"
  },
  {
   "metadata": {},
   "cell_type": "markdown",
   "source": [
    "# ERDBEERE\n",
    "# E: 4/8 = 0.5\n",
    "# R: 2/8 = 0.25\n",
    "# D: 1/8 = 0.125\n",
    "# B: 1/8 = 0.125\n",
    "\n",
    "# 1/(8\\*7) * (4\\*3 + 2\\*1) = 14/56 = 1/4 = 0.25\n",
    "\n",
    "# ERDBEEREERDBEERE\n",
    "# E: 8/16\n",
    "# R: 4/16\n",
    "# D: 2/16\n",
    "# B: 2/16\n",
    "\n",
    "# (8\\*7 + 4\\*3 + 2\\*1 + 2\\*1) / (16\\*15) = (56 + 12 + 4 + 4) / 240 = 76 / 240 = 0.316666"
   ],
   "id": "d6e17fa9244b8129"
  },
  {
   "metadata": {},
   "cell_type": "markdown",
   "source": [
    "#\n",
    "# 1.5"
   ],
   "id": "b6aebd18e647d9c5"
  },
  {
   "metadata": {},
   "cell_type": "markdown",
   "source": [
    "# ggT(12, 18) = 6\n",
    "\n",
    "# real IC = 0.7^2 + 0.2^2 + 0.1^2 = 0.49 + 0.04 + 0.01 = 0.54\n",
    "# s=1:\n",
    "# ABCBABBBAC:\n",
    "# 1/10\\*9 (3\\*2 + 5\\*4 + 2\\*1) ~= 0.31\n",
    "# s=2:\n",
    "# A C A B A\n",
    "#  B B B B C\n",
    "# 3\\*2 / 5\\*4 = 0.3\n",
    "# 4\\*3 / 5\\*4 = 0.6\n",
    "# mean: 0.45\n",
    "\n",
    "# s=3:\n",
    "# A  B  B  C\n",
    "#  B  A  B\n",
    "#   C  B  A\n",
    "# 2\\*1 / 4\\*3 = 1/6 = 0.1666\n",
    "# 2\\*1 / 3\\*2 = 1/3 = 0.3333\n",
    "# 0\n",
    "# mean: 0.1666\n",
    "\n",
    "# length 2 most probable because best IC\n",
    "# test all possible 2 length shifts\n",
    "# 1: ACABA:\n",
    "# shift 0: ACABA\n",
    "# |0.7-0.6| + |0.2-0.2| + |0.1-0.2| = 0.2\n",
    "# shift 1: CBCAC\n",
    "# |0.7-0.2| + |0.2-0.2| + |0.1-0.6| = 1.0\n",
    "# shift 2: BABCB\n",
    "# |0.7-0.2| + |0.2-0.6| + |0.1-0.2| = 1.0\n",
    "# backwards shift because its decoded then\n",
    "# shift with 0 is most probable and first letter of key is most probably \"A\"\n",
    "\n",
    "# 2: BBBBC\n",
    "# shift 0: BBBBC\n",
    "# |0.7-0| + |0.2-0.8| + |0.1-0.2| = 1.4\n",
    "# shift 1: AAAAB\n",
    "# |0.7-0.8| + |0.2-0.2| + |0.1-0| = 0.2\n",
    "# shift 2: CCCCB\n",
    "# |0.7-0| + |0.2-0.2| + |0.1-0.8| = 1.4\n",
    "# shift with 1 is most probable and second letter of key is most probable \"B\"\n",
    "# key is \"AB\"\n",
    "# original message is AACAAABAAB"
   ],
   "id": "2adb6d74ef722ef2"
  },
  {
   "metadata": {},
   "cell_type": "markdown",
   "source": [
    "#\n",
    "# 1.6"
   ],
   "id": "abe52cd83613175"
  },
  {
   "metadata": {},
   "cell_type": "markdown",
   "source": [
    "# n = 11\\*23 = 253\n",
    "# z0 = 2"
   ],
   "id": "bc2086daaf48a6cc"
  },
  {
   "metadata": {
    "ExecuteTime": {
     "end_time": "2024-04-29T14:10:02.660878Z",
     "start_time": "2024-04-29T14:10:02.644269Z"
    }
   },
   "cell_type": "code",
   "source": [
    "def blum_blum_shub(p,q,seed, m=None):\n",
    "    n = p*q\n",
    "    result = [seed]\n",
    "    x = -1\n",
    "    while x not in result[:-1]:\n",
    "        x = result[-1]\n",
    "        x = (x**2) % n\n",
    "        result.append(x)\n",
    "    result = result[result.index(result[-1]) + 1:]\n",
    "    key = [int(bin(x)[-1]) for x in result]\n",
    "    cipher =[]\n",
    "    if m:\n",
    "        cipher = [int(m[i])^key[i] for i in range(len(m))]\n",
    "    return result, key, m, cipher"
   ],
   "id": "afa699bc62158fbf",
   "outputs": [],
   "execution_count": 14
  },
  {
   "metadata": {
    "ExecuteTime": {
     "end_time": "2024-04-29T14:10:02.832101Z",
     "start_time": "2024-04-29T14:10:02.813661Z"
    }
   },
   "cell_type": "code",
   "source": "blum_blum_shub(11, 23, 2, \"10110101\")",
   "id": "9d999a5ea08de3e9",
   "outputs": [
    {
     "data": {
      "text/plain": [
       "([16,\n",
       "  3,\n",
       "  9,\n",
       "  81,\n",
       "  236,\n",
       "  36,\n",
       "  31,\n",
       "  202,\n",
       "  71,\n",
       "  234,\n",
       "  108,\n",
       "  26,\n",
       "  170,\n",
       "  58,\n",
       "  75,\n",
       "  59,\n",
       "  192,\n",
       "  179,\n",
       "  163,\n",
       "  4],\n",
       " [0, 1, 1, 1, 0, 0, 1, 0, 1, 0, 0, 0, 0, 0, 1, 1, 0, 1, 1, 0],\n",
       " '10110101',\n",
       " [1, 1, 0, 0, 0, 1, 1, 1])"
      ]
     },
     "execution_count": 15,
     "metadata": {},
     "output_type": "execute_result"
    }
   ],
   "execution_count": 15
  },
  {
   "metadata": {
    "ExecuteTime": {
     "end_time": "2024-04-29T14:10:02.912698Z",
     "start_time": "2024-04-29T14:10:02.906068Z"
    }
   },
   "cell_type": "code",
   "source": "",
   "id": "e8a2461a1a660f3",
   "outputs": [],
   "execution_count": 15
  }
 ],
 "metadata": {
  "kernelspec": {
   "display_name": "Python 3",
   "language": "python",
   "name": "python3"
  },
  "language_info": {
   "codemirror_mode": {
    "name": "ipython",
    "version": 2
   },
   "file_extension": ".py",
   "mimetype": "text/x-python",
   "name": "python",
   "nbconvert_exporter": "python",
   "pygments_lexer": "ipython2",
   "version": "2.7.6"
  }
 },
 "nbformat": 4,
 "nbformat_minor": 5
}
